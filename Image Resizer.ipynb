{
 "cells": [
  {
   "cell_type": "code",
   "execution_count": 2,
   "id": "20726c0f",
   "metadata": {},
   "outputs": [],
   "source": [
    "from PIL import Image\n",
    "import os\n",
    "import PIL\n",
    "import glob"
   ]
  },
  {
   "cell_type": "code",
   "execution_count": 7,
   "id": "acd0094d",
   "metadata": {},
   "outputs": [
    {
     "name": "stdout",
     "output_type": "stream",
     "text": [
      "573\n"
     ]
    }
   ],
   "source": [
    "from os import listdir, getcwd\n",
    "from os.path import isfile, join\n",
    "mypath = str(os.getcwd()) + \"\\\\Images\\\\\"\n",
    "onlyfiles = [f for f in listdir(mypath) if isfile(join(mypath, f))]\n",
    "print(len(onlyfiles))"
   ]
  },
  {
   "cell_type": "code",
   "execution_count": 12,
   "id": "d32ba932",
   "metadata": {},
   "outputs": [],
   "source": [
    "for file in onlyfiles:\n",
    "    image = Image.open(mypath+file)\n",
    "    resized_image = image.resize((256,256))\n",
    "    resized_image.save(os.getcwd() +\"\\\\Scaled_Images\\\\\"+file)"
   ]
  },
  {
   "cell_type": "code",
   "execution_count": null,
   "id": "9308acf1",
   "metadata": {},
   "outputs": [],
   "source": []
  }
 ],
 "metadata": {
  "kernelspec": {
   "display_name": "Python 3 (ipykernel)",
   "language": "python",
   "name": "python3"
  },
  "language_info": {
   "codemirror_mode": {
    "name": "ipython",
    "version": 3
   },
   "file_extension": ".py",
   "mimetype": "text/x-python",
   "name": "python",
   "nbconvert_exporter": "python",
   "pygments_lexer": "ipython3",
   "version": "3.9.12"
  }
 },
 "nbformat": 4,
 "nbformat_minor": 5
}
